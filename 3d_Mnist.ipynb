{
  "nbformat": 4,
  "nbformat_minor": 0,
  "metadata": {
    "colab": {
      "name": "3d Mnist",
      "provenance": [],
      "collapsed_sections": []
    },
    "kernelspec": {
      "name": "python3",
      "display_name": "Python 3"
    },
    "language_info": {
      "name": "python"
    },
    "accelerator": "GPU"
  },
  "cells": [
    {
      "cell_type": "code",
      "source": [
        "! pip install kaggle"
      ],
      "metadata": {
        "colab": {
          "base_uri": "https://localhost:8080/"
        },
        "id": "6lyK8g-yI5Ma",
        "outputId": "a6df5729-24d2-486b-fde3-fb3bc42c5a71"
      },
      "execution_count": 1,
      "outputs": [
        {
          "output_type": "stream",
          "name": "stdout",
          "text": [
            "Requirement already satisfied: kaggle in /usr/local/lib/python3.7/dist-packages (1.5.12)\n",
            "Requirement already satisfied: urllib3 in /usr/local/lib/python3.7/dist-packages (from kaggle) (1.24.3)\n",
            "Requirement already satisfied: six>=1.10 in /usr/local/lib/python3.7/dist-packages (from kaggle) (1.15.0)\n",
            "Requirement already satisfied: python-slugify in /usr/local/lib/python3.7/dist-packages (from kaggle) (6.1.1)\n",
            "Requirement already satisfied: certifi in /usr/local/lib/python3.7/dist-packages (from kaggle) (2021.10.8)\n",
            "Requirement already satisfied: python-dateutil in /usr/local/lib/python3.7/dist-packages (from kaggle) (2.8.2)\n",
            "Requirement already satisfied: requests in /usr/local/lib/python3.7/dist-packages (from kaggle) (2.23.0)\n",
            "Requirement already satisfied: tqdm in /usr/local/lib/python3.7/dist-packages (from kaggle) (4.63.0)\n",
            "Requirement already satisfied: text-unidecode>=1.3 in /usr/local/lib/python3.7/dist-packages (from python-slugify->kaggle) (1.3)\n",
            "Requirement already satisfied: chardet<4,>=3.0.2 in /usr/local/lib/python3.7/dist-packages (from requests->kaggle) (3.0.4)\n",
            "Requirement already satisfied: idna<3,>=2.5 in /usr/local/lib/python3.7/dist-packages (from requests->kaggle) (2.10)\n"
          ]
        }
      ]
    },
    {
      "cell_type": "code",
      "source": [
        "! mkdir ~/.kaggle\n",
        "! cp kaggle.json ~/.kaggle/\n",
        "! chmod 600 ~/.kaggle/kaggle.json"
      ],
      "metadata": {
        "id": "2cpTx8hKI7EL"
      },
      "execution_count": 2,
      "outputs": []
    },
    {
      "cell_type": "code",
      "source": [
        "! kaggle datasets download daavoo/3d-mnist"
      ],
      "metadata": {
        "colab": {
          "base_uri": "https://localhost:8080/"
        },
        "id": "Xp9eS7ToJLbp",
        "outputId": "dcca7c8f-7560-4193-be5a-ec02810e2743"
      },
      "execution_count": 3,
      "outputs": [
        {
          "output_type": "stream",
          "name": "stdout",
          "text": [
            "Downloading 3d-mnist.zip to /content\n",
            " 92% 140M/153M [00:00<00:00, 133MB/s]\n",
            "100% 153M/153M [00:01<00:00, 156MB/s]\n"
          ]
        }
      ]
    },
    {
      "cell_type": "code",
      "source": [
        "import zipfile\n",
        "with zipfile.ZipFile('/content/3d-mnist.zip', 'r') as zip_ref:\n",
        "    zip_ref.extractall('/content/')\n"
      ],
      "metadata": {
        "id": "vWcTq56JJb11"
      },
      "execution_count": 4,
      "outputs": []
    },
    {
      "cell_type": "code",
      "execution_count": 5,
      "metadata": {
        "id": "3npHJ6H28H4V"
      },
      "outputs": [],
      "source": [
        "import os\n",
        "os.environ[\"CUDA_DEVICE_ORDER\"] = \"PCI_BUS_ID\"   #if like me you do not have a lot of memory in your GPU\n",
        "os.environ[\"CUDA_VISIBLE_DEVICES\"] = \"\" #then these two lines force keras to use your CPU\n",
        "import keras\n",
        "from keras.models import Sequential\n",
        "from keras.layers import Dense, Flatten, Conv3D, MaxPooling3D, Dropout, BatchNormalization\n",
        "from tensorflow.keras.utils import to_categorical\n",
        "import numpy as np\n",
        "import matplotlib.pyplot as plt\n",
        "import h5py\n"
      ]
    },
    {
      "cell_type": "code",
      "source": [
        "def array_to_color(array, cmap=\"Oranges\"):\n",
        "    s_m = plt.cm.ScalarMappable(cmap=cmap)\n",
        "    return s_m.to_rgba(array)[:,:-1]\n",
        "\n",
        "\n",
        "def rgb_data_transform(data):\n",
        "    data_t = []\n",
        "    for i in range(data.shape[0]):\n",
        "        data_t.append(array_to_color(data[i]).reshape(16, 16, 16, 3))\n",
        "    return np.asarray(data_t, dtype=np.float32)"
      ],
      "metadata": {
        "id": "zD3ctzm8_Ec1"
      },
      "execution_count": 6,
      "outputs": []
    },
    {
      "cell_type": "code",
      "source": [
        "with h5py.File(\"/content/full_dataset_vectors.h5\", \"r\") as hf:    \n",
        "    X_train = hf[\"X_train\"][:]\n",
        "    targets_train = hf[\"y_train\"][:]\n",
        "    X_test = hf[\"X_test\"][:] \n",
        "    targets_test = hf[\"y_test\"][:]\n",
        "    sample_shape = (16, 16, 16, 3)\n",
        "    X_train = rgb_data_transform(X_train)\n",
        "    X_test = rgb_data_transform(X_test)\n",
        "    targets_train = to_categorical(targets_train).astype(np.integer)\n",
        "    targets_test = to_categorical(targets_test).astype(np.integer)\n"
      ],
      "metadata": {
        "colab": {
          "base_uri": "https://localhost:8080/"
        },
        "id": "5PANPoXUIWSy",
        "outputId": "8964e1be-6b4c-4e41-dfab-92fa1a74dd56"
      },
      "execution_count": 7,
      "outputs": [
        {
          "output_type": "stream",
          "name": "stderr",
          "text": [
            "/usr/local/lib/python3.7/dist-packages/ipykernel_launcher.py:9: DeprecationWarning: Converting `np.integer` or `np.signedinteger` to a dtype is deprecated. The current result is `np.dtype(np.int_)` which is not strictly correct. Note that the result depends on the system. To ensure stable results use may want to use `np.int64` or `np.int32`.\n",
            "  if __name__ == '__main__':\n",
            "/usr/local/lib/python3.7/dist-packages/ipykernel_launcher.py:10: DeprecationWarning: Converting `np.integer` or `np.signedinteger` to a dtype is deprecated. The current result is `np.dtype(np.int_)` which is not strictly correct. Note that the result depends on the system. To ensure stable results use may want to use `np.int64` or `np.int32`.\n",
            "  # Remove the CWD from sys.path while we load stuff.\n"
          ]
        }
      ]
    },
    {
      "cell_type": "code",
      "source": [
        ",model = Sequential()\n",
        "model.add(Conv3D(32, kernel_size=(3, 3, 3), activation='relu', kernel_initializer='he_uniform', input_shape=sample_shape))\n",
        "model.add(MaxPooling3D(pool_size=(2, 2, 2)))\n",
        "model.add(BatchNormalization(center=True, scale=True))\n",
        "model.add(Dropout(0.5))\n",
        "model.add(Conv3D(64, kernel_size=(3, 3, 3), activation='relu', kernel_initializer='he_uniform'))\n",
        "model.add(MaxPooling3D(pool_size=(2, 2, 2)))\n",
        "model.add(BatchNormalization(center=True, scale=True))\n",
        "model.add(Dropout(0.5))\n",
        "model.add(Flatten())\n",
        "model.add(Dense(256, activation='relu', kernel_initializer='he_uniform'))\n",
        "model.add(Dense(256, activation='relu', kernel_initializer='he_uniform'))\n",
        "model.add(Dense(10, activation='softmax'))\n",
        "\n",
        "# Compile the model\n",
        "model.compile(loss='categorical_crossentropy',\n",
        "              optimizer='adam',\n",
        "              metrics=['accuracy'])\n",
        "model.summary()\n",
        "# Fit data to model\n",
        "history = model.fit(X_train, targets_train,\n",
        "            batch_size=128,\n",
        "            epochs=40,\n",
        "            verbose=1,\n",
        "            validation_split=0.3)"
      ],
      "metadata": {
        "colab": {
          "base_uri": "https://localhost:8080/"
        },
        "id": "aMYXcN1XKzaC",
        "outputId": "c8b56688-7b52-4a35-f793-5f74f51ab8ba"
      },
      "execution_count": 8,
      "outputs": [
        {
          "output_type": "stream",
          "name": "stdout",
          "text": [
            "Model: \"sequential\"\n",
            "_________________________________________________________________\n",
            " Layer (type)                Output Shape              Param #   \n",
            "=================================================================\n",
            " conv3d (Conv3D)             (None, 14, 14, 14, 32)    2624      \n",
            "                                                                 \n",
            " max_pooling3d (MaxPooling3D  (None, 7, 7, 7, 32)      0         \n",
            " )                                                               \n",
            "                                                                 \n",
            " batch_normalization (BatchN  (None, 7, 7, 7, 32)      128       \n",
            " ormalization)                                                   \n",
            "                                                                 \n",
            " dropout (Dropout)           (None, 7, 7, 7, 32)       0         \n",
            "                                                                 \n",
            " conv3d_1 (Conv3D)           (None, 5, 5, 5, 64)       55360     \n",
            "                                                                 \n",
            " max_pooling3d_1 (MaxPooling  (None, 2, 2, 2, 64)      0         \n",
            " 3D)                                                             \n",
            "                                                                 \n",
            " batch_normalization_1 (Batc  (None, 2, 2, 2, 64)      256       \n",
            " hNormalization)                                                 \n",
            "                                                                 \n",
            " dropout_1 (Dropout)         (None, 2, 2, 2, 64)       0         \n",
            "                                                                 \n",
            " flatten (Flatten)           (None, 512)               0         \n",
            "                                                                 \n",
            " dense (Dense)               (None, 256)               131328    \n",
            "                                                                 \n",
            " dense_1 (Dense)             (None, 256)               65792     \n",
            "                                                                 \n",
            " dense_2 (Dense)             (None, 10)                2570      \n",
            "                                                                 \n",
            "=================================================================\n",
            "Total params: 258,058\n",
            "Trainable params: 257,866\n",
            "Non-trainable params: 192\n",
            "_________________________________________________________________\n",
            "Epoch 1/40\n",
            "55/55 [==============================] - 104s 2s/step - loss: 2.2854 - accuracy: 0.2490 - val_loss: 2.2938 - val_accuracy: 0.2060\n",
            "Epoch 2/40\n",
            "55/55 [==============================] - 107s 2s/step - loss: 1.7154 - accuracy: 0.4071 - val_loss: 2.4855 - val_accuracy: 0.2610\n",
            "Epoch 3/40\n",
            "55/55 [==============================] - 102s 2s/step - loss: 1.4886 - accuracy: 0.4764 - val_loss: 2.0010 - val_accuracy: 0.3410\n",
            "Epoch 4/40\n",
            "55/55 [==============================] - 101s 2s/step - loss: 1.3905 - accuracy: 0.5039 - val_loss: 3.8672 - val_accuracy: 0.2333\n",
            "Epoch 5/40\n",
            "55/55 [==============================] - 101s 2s/step - loss: 1.3048 - accuracy: 0.5384 - val_loss: 3.6706 - val_accuracy: 0.1807\n",
            "Epoch 6/40\n",
            "55/55 [==============================] - 101s 2s/step - loss: 1.2417 - accuracy: 0.5541 - val_loss: 1.8587 - val_accuracy: 0.4043\n",
            "Epoch 7/40\n",
            "55/55 [==============================] - 101s 2s/step - loss: 1.2117 - accuracy: 0.5684 - val_loss: 2.2553 - val_accuracy: 0.3600\n",
            "Epoch 8/40\n",
            "55/55 [==============================] - 101s 2s/step - loss: 1.1715 - accuracy: 0.5807 - val_loss: 2.6232 - val_accuracy: 0.2897\n",
            "Epoch 9/40\n",
            "55/55 [==============================] - 102s 2s/step - loss: 1.1470 - accuracy: 0.5883 - val_loss: 3.6642 - val_accuracy: 0.3330\n",
            "Epoch 10/40\n",
            "55/55 [==============================] - 102s 2s/step - loss: 1.1270 - accuracy: 0.5977 - val_loss: 1.9004 - val_accuracy: 0.3480\n",
            "Epoch 11/40\n",
            "55/55 [==============================] - 103s 2s/step - loss: 1.0882 - accuracy: 0.6100 - val_loss: 1.6790 - val_accuracy: 0.4453\n",
            "Epoch 12/40\n",
            "55/55 [==============================] - 102s 2s/step - loss: 1.0614 - accuracy: 0.6213 - val_loss: 2.3751 - val_accuracy: 0.3540\n",
            "Epoch 13/40\n",
            "55/55 [==============================] - 103s 2s/step - loss: 1.0367 - accuracy: 0.6300 - val_loss: 2.0576 - val_accuracy: 0.3733\n",
            "Epoch 14/40\n",
            "55/55 [==============================] - 103s 2s/step - loss: 1.0212 - accuracy: 0.6367 - val_loss: 2.4751 - val_accuracy: 0.3367\n",
            "Epoch 15/40\n",
            "55/55 [==============================] - 104s 2s/step - loss: 0.9891 - accuracy: 0.6524 - val_loss: 1.3847 - val_accuracy: 0.5570\n",
            "Epoch 16/40\n",
            "55/55 [==============================] - 102s 2s/step - loss: 0.9743 - accuracy: 0.6519 - val_loss: 3.0521 - val_accuracy: 0.3163\n",
            "Epoch 17/40\n",
            "55/55 [==============================] - 102s 2s/step - loss: 0.9710 - accuracy: 0.6546 - val_loss: 1.0992 - val_accuracy: 0.6123\n",
            "Epoch 18/40\n",
            "55/55 [==============================] - 102s 2s/step - loss: 0.9519 - accuracy: 0.6679 - val_loss: 1.5736 - val_accuracy: 0.4760\n",
            "Epoch 19/40\n",
            "55/55 [==============================] - 102s 2s/step - loss: 0.9244 - accuracy: 0.6696 - val_loss: 1.1258 - val_accuracy: 0.6150\n",
            "Epoch 20/40\n",
            "55/55 [==============================] - 102s 2s/step - loss: 0.9008 - accuracy: 0.6769 - val_loss: 3.2395 - val_accuracy: 0.3723\n",
            "Epoch 21/40\n",
            "55/55 [==============================] - 103s 2s/step - loss: 0.8918 - accuracy: 0.6790 - val_loss: 1.7556 - val_accuracy: 0.4317\n",
            "Epoch 22/40\n",
            "55/55 [==============================] - 103s 2s/step - loss: 0.8743 - accuracy: 0.6849 - val_loss: 1.4763 - val_accuracy: 0.5850\n",
            "Epoch 23/40\n",
            "55/55 [==============================] - 103s 2s/step - loss: 0.8506 - accuracy: 0.6969 - val_loss: 5.9440 - val_accuracy: 0.2310\n",
            "Epoch 24/40\n",
            "55/55 [==============================] - 102s 2s/step - loss: 0.8357 - accuracy: 0.7029 - val_loss: 2.6483 - val_accuracy: 0.3847\n",
            "Epoch 25/40\n",
            "55/55 [==============================] - 102s 2s/step - loss: 0.8209 - accuracy: 0.7090 - val_loss: 2.1948 - val_accuracy: 0.4467\n",
            "Epoch 26/40\n",
            "55/55 [==============================] - 102s 2s/step - loss: 0.8059 - accuracy: 0.7133 - val_loss: 4.0138 - val_accuracy: 0.2893\n",
            "Epoch 27/40\n",
            "55/55 [==============================] - 102s 2s/step - loss: 0.7838 - accuracy: 0.7201 - val_loss: 1.7003 - val_accuracy: 0.5353\n",
            "Epoch 28/40\n",
            "55/55 [==============================] - 102s 2s/step - loss: 0.7701 - accuracy: 0.7251 - val_loss: 8.5067 - val_accuracy: 0.2227\n",
            "Epoch 29/40\n",
            "55/55 [==============================] - 102s 2s/step - loss: 0.7651 - accuracy: 0.7320 - val_loss: 3.6243 - val_accuracy: 0.3643\n",
            "Epoch 30/40\n",
            "55/55 [==============================] - 102s 2s/step - loss: 0.7426 - accuracy: 0.7363 - val_loss: 1.8702 - val_accuracy: 0.5060\n",
            "Epoch 31/40\n",
            "55/55 [==============================] - 102s 2s/step - loss: 0.7386 - accuracy: 0.7373 - val_loss: 1.6787 - val_accuracy: 0.5153\n",
            "Epoch 32/40\n",
            "55/55 [==============================] - 102s 2s/step - loss: 0.7221 - accuracy: 0.7473 - val_loss: 1.4401 - val_accuracy: 0.6023\n",
            "Epoch 33/40\n",
            "55/55 [==============================] - 101s 2s/step - loss: 0.7352 - accuracy: 0.7400 - val_loss: 3.7832 - val_accuracy: 0.3377\n",
            "Epoch 34/40\n",
            "55/55 [==============================] - 101s 2s/step - loss: 0.6974 - accuracy: 0.7489 - val_loss: 1.9737 - val_accuracy: 0.5060\n",
            "Epoch 35/40\n",
            "55/55 [==============================] - 102s 2s/step - loss: 0.6813 - accuracy: 0.7604 - val_loss: 1.8071 - val_accuracy: 0.5467\n",
            "Epoch 36/40\n",
            "55/55 [==============================] - 103s 2s/step - loss: 0.6857 - accuracy: 0.7583 - val_loss: 2.1481 - val_accuracy: 0.4237\n",
            "Epoch 37/40\n",
            "55/55 [==============================] - 103s 2s/step - loss: 0.6576 - accuracy: 0.7689 - val_loss: 2.9158 - val_accuracy: 0.3837\n",
            "Epoch 38/40\n",
            "55/55 [==============================] - 102s 2s/step - loss: 0.6431 - accuracy: 0.7740 - val_loss: 2.2273 - val_accuracy: 0.4590\n",
            "Epoch 39/40\n",
            "55/55 [==============================] - 101s 2s/step - loss: 0.6427 - accuracy: 0.7701 - val_loss: 1.6175 - val_accuracy: 0.5373\n",
            "Epoch 40/40\n",
            "55/55 [==============================] - 101s 2s/step - loss: 0.6113 - accuracy: 0.7854 - val_loss: 2.3133 - val_accuracy: 0.3820\n"
          ]
        }
      ]
    },
    {
      "cell_type": "code",
      "source": [
        "score = model.evaluate(X_test, targets_test, verbose=0)\n",
        "print(f'Test loss: {score[0]} / Test accuracy: {score[1]}')\n",
        "\n",
        "# Plot history: Categorical crossentropy & Accuracy\n",
        "plt.plot(history.history['loss'], label='Categorical crossentropy (training data)')\n",
        "plt.plot(history.history['val_loss'], label='Categorical crossentropy (validation data)')\n",
        "plt.plot(history.history['accuracy'], label='Accuracy (training data)')\n",
        "plt.plot(history.history['val_accuracy'], label='Accuracy (validation data)')\n",
        "plt.title('Model performance for 3D MNIST Keras Conv3D example')\n",
        "plt.ylabel('Loss value')\n",
        "plt.xlabel('No. epoch')\n",
        "plt.legend(loc=\"upper left\")\n",
        "plt.show()\n"
      ],
      "metadata": {
        "colab": {
          "base_uri": "https://localhost:8080/",
          "height": 312
        },
        "id": "NOQFZOieK8-E",
        "outputId": "26ce0b1b-d51e-48c9-9b16-69f6eecdf5b1"
      },
      "execution_count": 11,
      "outputs": [
        {
          "output_type": "stream",
          "name": "stdout",
          "text": [
            "Test loss: 2.3635096549987793 / Test accuracy: 0.359499990940094\n"
          ]
        },
        {
          "output_type": "display_data",
          "data": {
            "image/png": "[encoded data removed]",
            "text/plain": [
              "<Figure size 432x288 with 1 Axes>"
            ]
          },
          "metadata": {
            "needs_background": "light"
          }
        }
      ]
    },
    {
      "cell_type": "code",
      "source": [
        ""
      ],
      "metadata": {
        "id": "_NPZKUCpLhz6"
      },
      "execution_count": null,
      "outputs": []
    }
  ]
}